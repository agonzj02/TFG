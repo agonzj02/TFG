{
 "cells": [
  {
   "cell_type": "code",
   "execution_count": 14,
   "metadata": {
    "collapsed": true
   },
   "outputs": [],
   "source": [
    "import tensorflow as tf\n",
    "import pandas as pd\n",
    "import numpy as np\n",
    "\n",
    "import spacy\n",
    "import nltk\n",
    "import nltk.data\n",
    "from nltk.tokenize import word_tokenize\n",
    "import regex as re\n",
    "import string\n",
    "from collections import defaultdict\n",
    "\n",
    "import matplotlib.pyplot as plt\n",
    "import seaborn as sns\n",
    "pd.set_option('display.max_colwidth', None)\n",
    "\n",
    "import sklearn\n",
    "from sklearn.model_selection import train_test_split\n",
    "from sklearn.metrics import f1_score, accuracy_score"
   ]
  },
  {
   "cell_type": "code",
   "execution_count": 3,
   "outputs": [
    {
     "name": "stdout",
     "output_type": "stream",
     "text": [
      "   Unnamed: 0         username  \\\n",
      "0           0  cristia89872894   \n",
      "1           2      sccristiano   \n",
      "2          12      Atorrante15   \n",
      "3          16          _fedenb   \n",
      "4          20  javier_eduardo3   \n",
      "\n",
      "                                                                                                                                         acctdesc  \\\n",
      "0  Hincha del Apruebo, pero nunca de los Apruebistas...mi izquierda llega sólo hasta Mujica. Me gustan los chistes sobre estupideces posmodernas.   \n",
      "1                                                                                                                                             NaN   \n",
      "2                                                                                                                                             NaN   \n",
      "3                                                                                                                           🍃ρєя αsρєяα α∂ αsтяα💫   \n",
      "4                                                                                                                                              🇨🇱   \n",
      "\n",
      "                  location  following  followers  totaltweets  \\\n",
      "0                    Chile          2          5         1006   \n",
      "1                      NaN         66        167         3751   \n",
      "2                      NaN        235         10          799   \n",
      "3  Buenos Aires, Argentina        601       1483        24585   \n",
      "4        Concepción, Chile       1358        322         5516   \n",
      "\n",
      "         usercreatedts       tweetcreatedts  retweetcount  \\\n",
      "0   2020-06-05 3:02:01  2020-11-09 23:59:59             0   \n",
      "1  2010-05-01 17:14:51  2020-11-09 23:56:56             0   \n",
      "2  2019-12-22 22:21:49  2020-11-09 23:52:14             0   \n",
      "3  2010-09-10 14:51:55  2020-11-09 23:47:59             0   \n",
      "4  2010-05-25 20:32:11  2020-11-09 23:42:28             0   \n",
      "\n",
      "                                                                                                              hashtags  \\\n",
      "0                                                                                                                   []   \n",
      "1                                                                                                                   []   \n",
      "2                                                                                                                   []   \n",
      "3                                                                                                                   []   \n",
      "4  [{'text': 'nomasinmigracionilegal', 'indices': [216, 239]}, {'text': 'nuevaleydemigracion', 'indices': [240, 260]}]   \n",
      "\n",
      "                                                                                                                                                                                                                                                                      text  \\\n",
      "0                                                        @liznorthon @SoyAIvaro @ursulaeggers @MielyMerken @AlessandriFelip Pillaron al presunto, es de nacionalidad colombiana. No es sorpresa, la violencia es parte del inmigrante de origen colombiano, es su cultura.   \n",
      "1                                                                                                                             @ccarvajaly Cuando se den cuenta que eran homicidas o narco y los pillen dirán hemos dado con este inmigrante ilegal que era un delincuente.   \n",
      "2                                              @SergioChouza @santidemoreno11 Jajaajja ahí estuviste bien chouza se nota TU CABEZA DE SUDACA Y DE MAL PAGADOR,lo llevan en el ADN!!! esos papelitos para los países serios es un compromiso para vos y para los sudacas no   \n",
      "3                                                                                                                        Acá podemos ver a un alemán, de cabello rubio, ojos celestes, bardeando a un negro de mierda que está en su mejor momento https://t.co/XchqgGMamO   \n",
      "4  @Senado_Chile Murieron 8 compatriotas por culpa de un inmigrante que nunca debió pisar Chile, y ustedes se dan el lujo de no sesionar. Por su inacción, son cómplices de esas muertes. Más mano dura con los Ilegales.\\n\\n#nomasinmigracionilegal\\n#nuevaleydemigracion   \n",
      "\n",
      "   target  \n",
      "0       1  \n",
      "1       1  \n",
      "2       1  \n",
      "3       1  \n",
      "4       1  \n"
     ]
    }
   ],
   "source": [
    "df = pd.read_csv('../data/input_tweets.csv')\n",
    "print(df.head())"
   ],
   "metadata": {
    "collapsed": false,
    "pycharm": {
     "name": "#%%\n"
    }
   }
  },
  {
   "cell_type": "code",
   "execution_count": 4,
   "outputs": [
    {
     "name": "stdout",
     "output_type": "stream",
     "text": [
      "                                                                                                                                                                                                                                                                      text  \\\n",
      "0                                                        @liznorthon @SoyAIvaro @ursulaeggers @MielyMerken @AlessandriFelip Pillaron al presunto, es de nacionalidad colombiana. No es sorpresa, la violencia es parte del inmigrante de origen colombiano, es su cultura.   \n",
      "1                                                                                                                             @ccarvajaly Cuando se den cuenta que eran homicidas o narco y los pillen dirán hemos dado con este inmigrante ilegal que era un delincuente.   \n",
      "2                                              @SergioChouza @santidemoreno11 Jajaajja ahí estuviste bien chouza se nota TU CABEZA DE SUDACA Y DE MAL PAGADOR,lo llevan en el ADN!!! esos papelitos para los países serios es un compromiso para vos y para los sudacas no   \n",
      "3                                                                                                                        Acá podemos ver a un alemán, de cabello rubio, ojos celestes, bardeando a un negro de mierda que está en su mejor momento https://t.co/XchqgGMamO   \n",
      "4  @Senado_Chile Murieron 8 compatriotas por culpa de un inmigrante que nunca debió pisar Chile, y ustedes se dan el lujo de no sesionar. Por su inacción, son cómplices de esas muertes. Más mano dura con los Ilegales.\\n\\n#nomasinmigracionilegal\\n#nuevaleydemigracion   \n",
      "\n",
      "   target  \n",
      "0       1  \n",
      "1       1  \n",
      "2       1  \n",
      "3       1  \n",
      "4       1  \n"
     ]
    }
   ],
   "source": [
    "df.drop(columns = ['Unnamed: 0', 'username', 'acctdesc' ,'location', 'following', 'followers', 'totaltweets', 'usercreatedts', 'tweetcreatedts', 'retweetcount', 'hashtags', ], inplace = True)\n",
    "print(df.head(5))"
   ],
   "metadata": {
    "collapsed": false,
    "pycharm": {
     "name": "#%%\n"
    }
   }
  },
  {
   "cell_type": "code",
   "execution_count": 12,
   "outputs": [
    {
     "name": "stdout",
     "output_type": "stream",
     "text": [
      "target\n",
      "0    1027\n",
      "1     973\n",
      "dtype: int64\n",
      "target\n",
      "0    720\n",
      "1    680\n",
      "dtype: int64\n",
      "target\n",
      "0    307\n",
      "1    293\n",
      "dtype: int64\n",
      "Training set shape: (1400, 2)\n",
      "Test set shape: (600, 2)\n"
     ]
    }
   ],
   "source": [
    "df_train, df_test = train_test_split(df, test_size = 0.3, random_state = 42)\n",
    "\n",
    "print(f'Training set shape: {df_train.shape}')\n",
    "print(f'Test set shape: {df_test.shape}')"
   ],
   "metadata": {
    "collapsed": false,
    "pycharm": {
     "name": "#%%\n"
    }
   }
  },
  {
   "cell_type": "code",
   "execution_count": 16,
   "outputs": [
    {
     "name": "stdout",
     "output_type": "stream",
     "text": [
      "['a', 'a', 'acá', 'ademas', 'además', 'ahí', 'ajena', 'al', 'algo', 'algún', 'allá', 'ambos', 'ante', 'antes', 'aquel', 'aquella', 'aquí', 'arriba', 'así', 'aun', 'cabe', 'cada', 'como', 'con', 'conmigo', 'conseguir', 'consigo', 'consigue', 'consiguen', 'consigues', 'contigo', 'cual', 'cuales', 'cualquier', 'cuando', 'cuanto', 'de', 'dejar', 'del', 'dentro', 'desde', 'donde', 'dos', 'e', 'el', 'él', 'ella', 'emplean', 'emplear', 'empleas', 'empleo', 'en', 'encima', 'entonces', 'entre', 'eramos', 'eran', 'eres', 'es', 'esa', 'eso', 'esta', 'estaba', 'estado', 'estamos', 'están', 'estar', 'este', 'estoy', 'etc', 'fin', 'fue', 'fueron', 'fui', 'fuimos', 'ha', 'hacéis', 'hacemos', 'hacen', 'hacer', 'hacia', 'hago', 'hasta', 'he', 'incluso', 'intenta', 'intentáis', 'intentamos', 'intentan', 'intentar', 'intento', 'ir', 'junto', 'la', 'las', 'le', 'lo', 'los', 'mas', 'más', 'me', 'mi', 'mía', 'mientras', 'mío', 'mis', 'misma', 'modo', 'nos', 'nosotras', 'nuestra', 'nunca', 'otra', 'para', 'parecer', 'pero', 'podemos', 'poder', 'podría', 'podríais', 'podríamos', 'podrían', 'por', 'por qué', 'porque', 'primero', 'puede', 'puedo', 'pues', 'que', 'qué', 'querer', 'quién', 'quienesquiera', 'quienquiera', 'quizá', 'sabe', 'sabéis', 'sabemos', 'saber', 'se', 'según', 'ser', 'si', 'sí', 'siendo', 'sin', 'sino', 'so', 'sobre', 'sois', 'solo', 'sólo', 'somos', 'son', 'soy', 'sr', 'sra', 'sres', 'sta', 'su', 'sus', 'suya', 'tal', 'también', 'tan', 'tanta', 'te', 'tenéis', 'tenemos', 'tener', 'tengo', 'ti', 'tiempo', 'tienen', 'toda', 'tomar', 'trabaja', 'trabajáis', 'trabajamos', 'trabajan', 'trabajar', 'trabajas', 'tras', 'tu', 'tú', 'tus', 'tuya', 'ultimo', 'último', 'un', 'un/a/o/s', 'una', 'unas', 'uno', 'usa/s', 'usáis', 'usamos', 'usan', 'usar', 'uso', 'usted', 'va', 'vais', 'valor', 'vamos', 'varias', 'vaya', 'verdadera', 'voy', 'y', 'ya', 'yo']\n"
     ]
    }
   ],
   "source": [
    "punctuations = \"¡!#$%&'()*+,-./:;<=>¿?@[\\]^_`{|}~\"\n",
    "\n",
    "def read_txt(filename):\n",
    "    list = []\n",
    "    with open(filename, 'r', encoding='utf-8') as f:\n",
    "        data = f.readlines()\n",
    "        for line in data:\n",
    "            list.append(str(line).replace('\\n', ''))\n",
    "    return list\n",
    "\n",
    "stopwords = read_txt('../data/spanish_stopwords.txt')"
   ],
   "metadata": {
    "collapsed": false,
    "pycharm": {
     "name": "#%%\n"
    }
   }
  }
 ],
 "metadata": {
  "kernelspec": {
   "display_name": "Python 3",
   "language": "python",
   "name": "python3"
  },
  "language_info": {
   "codemirror_mode": {
    "name": "ipython",
    "version": 2
   },
   "file_extension": ".py",
   "mimetype": "text/x-python",
   "name": "python",
   "nbconvert_exporter": "python",
   "pygments_lexer": "ipython2",
   "version": "2.7.6"
  }
 },
 "nbformat": 4,
 "nbformat_minor": 0
}