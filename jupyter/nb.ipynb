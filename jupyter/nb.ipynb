{
 "cells": [
  {
   "cell_type": "code",
   "execution_count": 2,
   "metadata": {
    "collapsed": true
   },
   "outputs": [],
   "source": [
    "import tensorflow as tf\n",
    "import pandas as pd\n",
    "import numpy as np\n",
    "\n",
    "import spacy\n",
    "import nltk\n",
    "import nltk.data\n",
    "from nltk.tokenize import word_tokenize\n",
    "from nltk.stem import SnowballStemmer\n",
    "import regex as re\n",
    "import string\n",
    "from collections import defaultdict\n",
    "\n",
    "from keras.preprocessing.text import Tokenizer\n",
    "from keras.preprocessing.sequence import pad_sequences\n",
    "from keras.wrappers.scikit_learn import KerasClassifier\n",
    "\n",
    "from tensorflow.keras.layers import Conv1D, Flatten, Bidirectional, LSTM, Dense, Input, Dropout, MaxPooling1D, GlobalMaxPooling1D\n",
    "from tensorflow.keras.layers import SpatialDropout1D\n",
    "from tensorflow.keras.callbacks import ModelCheckpoint\n",
    "from tensorflow.keras.optimizers import Adam\n",
    "from tensorflow.keras.callbacks import ReduceLROnPlateau\n",
    "\n",
    "import matplotlib.pyplot as plt\n",
    "import seaborn as sns\n",
    "pd.set_option('display.max_colwidth', None)\n",
    "\n",
    "import sklearn\n",
    "from sklearn.model_selection import train_test_split\n",
    "from sklearn.metrics import confusion_matrix, classification_report, accuracy_score, f1_score\n",
    "from sklearn.model_selection import RandomizedSearchCV\n",
    "from sklearn.feature_extraction.text import TfidfVectorizer\n",
    "from sklearn.feature_selection import SelectKBest, chi2\n",
    "from sklearn.pipeline import Pipeline\n",
    "from sklearn.linear_model import LogisticRegression\n",
    "from sklearn import naive_bayes\n",
    "\n",
    "import itertools"
   ]
  },
  {
   "cell_type": "code",
   "execution_count": 3,
   "outputs": [
    {
     "name": "stdout",
     "output_type": "stream",
     "text": [
      "   Unnamed: 0         username  \\\n",
      "0           0  cristia89872894   \n",
      "1           2      sccristiano   \n",
      "2          12      Atorrante15   \n",
      "3          16          _fedenb   \n",
      "4          20  javier_eduardo3   \n",
      "\n",
      "                                                                                                                                         acctdesc  \\\n",
      "0  Hincha del Apruebo, pero nunca de los Apruebistas...mi izquierda llega sólo hasta Mujica. Me gustan los chistes sobre estupideces posmodernas.   \n",
      "1                                                                                                                                             NaN   \n",
      "2                                                                                                                                             NaN   \n",
      "3                                                                                                                           🍃ρєя αsρєяα α∂ αsтяα💫   \n",
      "4                                                                                                                                              🇨🇱   \n",
      "\n",
      "                  location  following  followers  totaltweets  \\\n",
      "0                    Chile          2          5         1006   \n",
      "1                      NaN         66        167         3751   \n",
      "2                      NaN        235         10          799   \n",
      "3  Buenos Aires, Argentina        601       1483        24585   \n",
      "4        Concepción, Chile       1358        322         5516   \n",
      "\n",
      "         usercreatedts       tweetcreatedts  retweetcount  \\\n",
      "0   2020-06-05 3:02:01  2020-11-09 23:59:59             0   \n",
      "1  2010-05-01 17:14:51  2020-11-09 23:56:56             0   \n",
      "2  2019-12-22 22:21:49  2020-11-09 23:52:14             0   \n",
      "3  2010-09-10 14:51:55  2020-11-09 23:47:59             0   \n",
      "4  2010-05-25 20:32:11  2020-11-09 23:42:28             0   \n",
      "\n",
      "                                                                                                              hashtags  \\\n",
      "0                                                                                                                   []   \n",
      "1                                                                                                                   []   \n",
      "2                                                                                                                   []   \n",
      "3                                                                                                                   []   \n",
      "4  [{'text': 'nomasinmigracionilegal', 'indices': [216, 239]}, {'text': 'nuevaleydemigracion', 'indices': [240, 260]}]   \n",
      "\n",
      "                                                                                                                                                                                                                                                                            text  \\\n",
      "0                                                              @liznorthon @SoyAIvaro @ursulaeggers @MielyMerken @AlessandriFelip Pillaron al presunto, es de nacionalidad colombiana. No es sorpresa, la violencia es parte del inmigrante de origen colombiano, es su cultura.   \n",
      "1                                                                                                                                   @ccarvajaly Cuando se den cuenta que eran homicidas o narco y los pillen dirán hemos dado con este inmigrante ilegal que era un delincuente.   \n",
      "2                                                    @SergioChouza @santidemoreno11 Jajaajja ahí estuviste bien chouza se nota TU CABEZA DE SUDACA Y DE MAL PAGADOR,lo llevan en el ADN!!! esos papelitos para los países serios es un compromiso para vos y para los sudacas no   \n",
      "3                                                                                                                              Acá podemos ver a un alemán, de cabello rubio, ojos celestes, bardeando a un negro de mierda que está en su mejor momento https://t.co/XchqgGMamO   \n",
      "4  @Senado_Chile Murieron 8 compatriotas por culpa de un inmigrante que nunca debió pisar Chile, y ustedes se dan el lujo de no sesionar. Por su inacción, son cómplices de esas muertes. Más mano dura con los Ilegales.\\r\\n\\r\\n#nomasinmigracionilegal\\r\\n#nuevaleydemigracion   \n",
      "\n",
      "   target  \n",
      "0       1  \n",
      "1       1  \n",
      "2       1  \n",
      "3       1  \n",
      "4       1  \n"
     ]
    }
   ],
   "source": [
    "df = pd.read_csv('../data/input_tweets.csv')\n",
    "print(df.head())"
   ],
   "metadata": {
    "collapsed": false,
    "pycharm": {
     "name": "#%%\n"
    }
   }
  },
  {
   "cell_type": "code",
   "execution_count": 4,
   "outputs": [
    {
     "name": "stdout",
     "output_type": "stream",
     "text": [
      "          username  \\\n",
      "0  cristia89872894   \n",
      "1      sccristiano   \n",
      "2      Atorrante15   \n",
      "3          _fedenb   \n",
      "4  javier_eduardo3   \n",
      "\n",
      "                                                                                                                                                                                                                                                                            text  \\\n",
      "0                                                              @liznorthon @SoyAIvaro @ursulaeggers @MielyMerken @AlessandriFelip Pillaron al presunto, es de nacionalidad colombiana. No es sorpresa, la violencia es parte del inmigrante de origen colombiano, es su cultura.   \n",
      "1                                                                                                                                   @ccarvajaly Cuando se den cuenta que eran homicidas o narco y los pillen dirán hemos dado con este inmigrante ilegal que era un delincuente.   \n",
      "2                                                    @SergioChouza @santidemoreno11 Jajaajja ahí estuviste bien chouza se nota TU CABEZA DE SUDACA Y DE MAL PAGADOR,lo llevan en el ADN!!! esos papelitos para los países serios es un compromiso para vos y para los sudacas no   \n",
      "3                                                                                                                              Acá podemos ver a un alemán, de cabello rubio, ojos celestes, bardeando a un negro de mierda que está en su mejor momento https://t.co/XchqgGMamO   \n",
      "4  @Senado_Chile Murieron 8 compatriotas por culpa de un inmigrante que nunca debió pisar Chile, y ustedes se dan el lujo de no sesionar. Por su inacción, son cómplices de esas muertes. Más mano dura con los Ilegales.\\r\\n\\r\\n#nomasinmigracionilegal\\r\\n#nuevaleydemigracion   \n",
      "\n",
      "   target  \n",
      "0       1  \n",
      "1       1  \n",
      "2       1  \n",
      "3       1  \n",
      "4       1  \n"
     ]
    }
   ],
   "source": [
    "df.drop(columns = ['Unnamed: 0', 'acctdesc' ,'location', 'following', 'followers', 'totaltweets', 'usercreatedts', 'tweetcreatedts', 'retweetcount', 'hashtags', ], inplace = True)\n",
    "print(df.head(5))"
   ],
   "metadata": {
    "collapsed": false,
    "pycharm": {
     "name": "#%%\n"
    }
   }
  },
  {
   "cell_type": "code",
   "execution_count": 5,
   "outputs": [],
   "source": [
    "punctuations = \"¡!#$%&'()*+,-./:;<=>¿?@[\\]^_`{|}~\"\n",
    "\n",
    "def read_txt(filename):\n",
    "    list = []\n",
    "    with open(filename, 'r', encoding='utf-8') as f:\n",
    "        data = f.readlines()\n",
    "        for line in data:\n",
    "            list.append(str(line).replace('\\n', ''))\n",
    "    return list\n",
    "\n",
    "stopwords = read_txt('../data/spanish_stopwords.txt')\n",
    "\n",
    "stemmer = SnowballStemmer('spanish')"
   ],
   "metadata": {
    "collapsed": false,
    "pycharm": {
     "name": "#%%\n"
    }
   }
  },
  {
   "cell_type": "code",
   "execution_count": 6,
   "outputs": [],
   "source": [
    "def clean_accents(tweet):\n",
    "    tweet = re.sub(r\"[àáâãäå]\", \"a\", tweet)\n",
    "    tweet = re.sub(r\"ç\", \"c\", tweet)\n",
    "    tweet = re.sub(r\"[èéêë]\", \"e\", tweet)\n",
    "    tweet = re.sub(r\"[ìíîï]\", \"i\", tweet)\n",
    "    tweet = re.sub(r\"[òóôõö]\", \"o\", tweet)\n",
    "    tweet = re.sub(r\"[ùúûü]\", \"u\", tweet)\n",
    "    tweet = re.sub(r\"[ýÿ]\", \"y\", tweet)\n",
    "\n",
    "    return tweet\n",
    "\n",
    "def clean_tweet(tweet, stem = False):\n",
    "    tweet = tweet.lower().strip()\n",
    "    tweet = re.sub(r'https?:\\/\\/\\S+', '', tweet)\n",
    "    tweet = re.sub(r'http?:\\/\\/\\S+', '', tweet)\n",
    "    tweet = re.sub(r'www?:\\/\\/\\S+', '', tweet)\n",
    "    tweet = re.sub(r'\\s([@#][\\w_-]+)', \"\", tweet)\n",
    "    tweet = re.sub(r\"\\n\", \" \", tweet)\n",
    "    tweet = clean_accents(tweet)\n",
    "    tweet = re.sub(r\"\\b(a*ha+h[ha]*|o?l+o+l+[ol]*|x+d+[x*d*]*|a*ja+[j+a+]+)\\b\", \"<risas>\", tweet)\n",
    "    for symbol in punctuations:\n",
    "        tweet = tweet.replace(symbol, \"\")\n",
    "    tokens = []\n",
    "    for token in tweet.strip().split():\n",
    "        if token not in punctuations and token not in stopwords:\n",
    "            if stem:\n",
    "                tokens.append(stemmer.stem(token))\n",
    "            else:\n",
    "                tokens.append(token)\n",
    "    return \" \".join(tokens)"
   ],
   "metadata": {
    "collapsed": false,
    "pycharm": {
     "name": "#%%\n"
    }
   }
  },
  {
   "cell_type": "code",
   "execution_count": 7,
   "outputs": [
    {
     "name": "stdout",
     "output_type": "stream",
     "text": [
      "0                                     liznorthon pillaron presunto nacionalidad colombiana no sorpresa violencia parte inmigrante origen colombiano cultura\n",
      "1                                                         ccarvajaly den cuenta homicidas o narco pillen diran hemos dado inmigrante ilegal era delincuente\n",
      "2           sergiochouza risas ahi estuviste bien chouza nota cabeza sudaca mal pagadorlo llevan adn esos papelitos paises serios compromiso vos sudacas no\n",
      "3                                                                           aca ver aleman cabello rubio ojos celestes bardeando negro mierda mejor momento\n",
      "4    senadochile murieron 8 compatriotas culpa inmigrante debio pisar chile ustedes dan lujo no sesionar inaccion complices esas muertes mano dura ilegales\n",
      "Name: text_cleaned, dtype: object\n"
     ]
    }
   ],
   "source": [
    "df['text_cleaned'] = df['text'].apply(lambda s : clean_tweet(s))\n",
    "print(df['text_cleaned'].head(5))"
   ],
   "metadata": {
    "collapsed": false,
    "pycharm": {
     "name": "#%%\n"
    }
   }
  },
  {
   "cell_type": "code",
   "execution_count": 10,
   "outputs": [],
   "source": [
    "vectorizer = TfidfVectorizer(min_df= 3, sublinear_tf=True, norm='l2', ngram_range=(1, 2), lowercase = False)\n",
    "final_features = vectorizer.fit(df['text_cleaned'])"
   ],
   "metadata": {
    "collapsed": false,
    "pycharm": {
     "name": "#%%\n"
    }
   }
  },
  {
   "cell_type": "code",
   "execution_count": 11,
   "outputs": [],
   "source": [
    "X = df['text_cleaned']\n",
    "Y = df['target']\n",
    "X_train, X_test, y_train, y_test = train_test_split(X, Y, test_size=0.3, random_state=42)"
   ],
   "metadata": {
    "collapsed": false,
    "pycharm": {
     "name": "#%%\n"
    }
   }
  },
  {
   "cell_type": "code",
   "execution_count": 12,
   "outputs": [],
   "source": [
    "X_train = vectorizer.transform(X_train)\n",
    "X_test = vectorizer.transform(X_test)"
   ],
   "metadata": {
    "collapsed": false,
    "pycharm": {
     "name": "#%%\n"
    }
   }
  },
  {
   "cell_type": "code",
   "execution_count": 13,
   "outputs": [
    {
     "data": {
      "text/plain": "MultinomialNB()"
     },
     "execution_count": 13,
     "metadata": {},
     "output_type": "execute_result"
    }
   ],
   "source": [
    "Naive = naive_bayes.MultinomialNB()\n",
    "Naive.fit(X_train,y_train)"
   ],
   "metadata": {
    "collapsed": false,
    "pycharm": {
     "name": "#%%\n"
    }
   }
  },
  {
   "cell_type": "code",
   "execution_count": 14,
   "outputs": [
    {
     "name": "stdout",
     "output_type": "stream",
     "text": [
      "              precision    recall  f1-score   support\n",
      "\n",
      "           0       0.75      0.81      0.78       307\n",
      "           1       0.78      0.72      0.75       293\n",
      "\n",
      "    accuracy                           0.77       600\n",
      "   macro avg       0.77      0.77      0.77       600\n",
      "weighted avg       0.77      0.77      0.77       600\n",
      "\n",
      "[[248  59]\n",
      " [ 81 212]]\n"
     ]
    }
   ],
   "source": [
    "y_pred = Naive.predict(X_test)\n",
    "\n",
    "print(classification_report(y_test, y_pred))\n",
    "print(confusion_matrix(y_test, y_pred))"
   ],
   "metadata": {
    "collapsed": false,
    "pycharm": {
     "name": "#%%\n"
    }
   }
  },
  {
   "cell_type": "code",
   "execution_count": 15,
   "outputs": [],
   "source": [
    "def plot_confusion_matrix(cm, classes,\n",
    "                          title='Confusion matrix',\n",
    "                          cmap=plt.cm.Blues):\n",
    "    \"\"\"\n",
    "    This function prints and plots the confusion matrix.\n",
    "    Normalization can be applied by setting `normalize=True`.\n",
    "    \"\"\"\n",
    "\n",
    "    cm = cm.astype('float') / cm.sum(axis=1)[:, np.newaxis]\n",
    "\n",
    "    plt.imshow(cm, interpolation='nearest', cmap=cmap)\n",
    "    plt.title(title, fontsize=20)\n",
    "    plt.colorbar()\n",
    "    tick_marks = np.arange(len(classes))\n",
    "    plt.xticks(tick_marks, classes, fontsize=13)\n",
    "    plt.yticks(tick_marks, classes, fontsize=13)\n",
    "\n",
    "    fmt = '.2f'\n",
    "    thresh = cm.max() / 2.\n",
    "    for i, j in itertools.product(range(cm.shape[0]), range(cm.shape[1])):\n",
    "        plt.text(j, i, format(cm[i, j], fmt),\n",
    "                 horizontalalignment=\"center\",\n",
    "                 color=\"white\" if cm[i, j] > thresh else \"black\")\n",
    "\n",
    "    plt.ylabel('True label', fontsize=17)\n",
    "    plt.xlabel('Predicted label', fontsize=17)"
   ],
   "metadata": {
    "collapsed": false,
    "pycharm": {
     "name": "#%%\n"
    }
   }
  },
  {
   "cell_type": "code",
   "execution_count": 16,
   "outputs": [
    {
     "data": {
      "text/plain": "<Figure size 432x432 with 2 Axes>",
      "image/png": "[encoded data removed]"
     },
     "metadata": {
      "needs_background": "light"
     },
     "output_type": "display_data"
    }
   ],
   "source": [
    "cnf_matrix = confusion_matrix(y_test, y_pred)\n",
    "plt.figure(figsize=(6,6))\n",
    "plot_confusion_matrix(cnf_matrix, classes=[0,1], title=\"Confusion matrix\")\n",
    "plt.show()"
   ],
   "metadata": {
    "collapsed": false,
    "pycharm": {
     "name": "#%%\n"
    }
   }
  }
 ],
 "metadata": {
  "kernelspec": {
   "display_name": "Python 3",
   "language": "python",
   "name": "python3"
  },
  "language_info": {
   "codemirror_mode": {
    "name": "ipython",
    "version": 2
   },
   "file_extension": ".py",
   "mimetype": "text/x-python",
   "name": "python",
   "nbconvert_exporter": "python",
   "pygments_lexer": "ipython2",
   "version": "2.7.6"
  }
 },
 "nbformat": 4,
 "nbformat_minor": 0
}